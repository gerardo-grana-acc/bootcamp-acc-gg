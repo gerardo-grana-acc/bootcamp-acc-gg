{
  "nbformat": 4,
  "nbformat_minor": 0,
  "metadata": {
    "colab": {
      "provenance": []
    },
    "kernelspec": {
      "name": "python3",
      "display_name": "Python 3"
    },
    "language_info": {
      "name": "python"
    }
  },
  "cells": [
    {
      "cell_type": "code",
      "execution_count": 3,
      "metadata": {
        "colab": {
          "base_uri": "https://localhost:8080/"
        },
        "id": "i7MfJDBeZLrR",
        "outputId": "a40a0391-2b9a-4b80-877c-e464be7461fd"
      },
      "outputs": [
        {
          "output_type": "stream",
          "name": "stdout",
          "text": [
            "Collecting pyspark\n",
            "  Downloading pyspark-3.5.0.tar.gz (316.9 MB)\n",
            "\u001b[2K     \u001b[90m━━━━━━━━━━━━━━━━━━━━━━━━━━━━━━━━━━━━━━━━\u001b[0m \u001b[32m316.9/316.9 MB\u001b[0m \u001b[31m2.8 MB/s\u001b[0m eta \u001b[36m0:00:00\u001b[0m\n",
            "\u001b[?25h  Preparing metadata (setup.py) ... \u001b[?25l\u001b[?25hdone\n",
            "Requirement already satisfied: py4j==0.10.9.7 in /usr/local/lib/python3.10/dist-packages (from pyspark) (0.10.9.7)\n",
            "Building wheels for collected packages: pyspark\n",
            "  Building wheel for pyspark (setup.py) ... \u001b[?25l\u001b[?25hdone\n",
            "  Created wheel for pyspark: filename=pyspark-3.5.0-py2.py3-none-any.whl size=317425344 sha256=59cb0648e6bc43eb2e8f3e2adfca739d5eac17e9748de9400a6822e193ac64c7\n",
            "  Stored in directory: /root/.cache/pip/wheels/41/4e/10/c2cf2467f71c678cfc8a6b9ac9241e5e44a01940da8fbb17fc\n",
            "Successfully built pyspark\n",
            "Installing collected packages: pyspark\n",
            "Successfully installed pyspark-3.5.0\n"
          ]
        }
      ],
      "source": [
        "!pip install pyspark"
      ]
    },
    {
      "cell_type": "code",
      "source": [
        "import pyspark.sql.functions as f\n",
        "from pyspark.sql import SparkSession\n",
        "from pyspark.sql.types import *\n",
        "from pyspark.sql.functions import *"
      ],
      "metadata": {
        "id": "z0c44KDYZS7l"
      },
      "execution_count": 4,
      "outputs": []
    },
    {
      "cell_type": "code",
      "source": [
        "spark = SparkSession.builder.appName('DataFrame').getOrCreate()"
      ],
      "metadata": {
        "id": "4w38SyqnZXI-"
      },
      "execution_count": 5,
      "outputs": []
    },
    {
      "cell_type": "code",
      "source": [
        "from google.colab import drive\n",
        "drive.mount(\"/content/drive/\")"
      ],
      "metadata": {
        "colab": {
          "base_uri": "https://localhost:8080/"
        },
        "id": "-xwct2ePZcQv",
        "outputId": "97512259-9ec1-4b94-ffe9-30bdedc94e63"
      },
      "execution_count": 8,
      "outputs": [
        {
          "output_type": "stream",
          "name": "stdout",
          "text": [
            "Mounted at /content/drive/\n"
          ]
        }
      ]
    },
    {
      "cell_type": "markdown",
      "source": [
        "## NBA"
      ],
      "metadata": {
        "id": "ZBf9swfRZgHm"
      }
    },
    {
      "cell_type": "code",
      "source": [
        "players = spark.read.load(\"/content/drive/MyDrive/01 - Laboral/Accenture/Data academy/Data engineering/players_(1).csv\", format='csv', sep=',', header=\"true\")\n",
        "teams = spark.read.load(\"/content/drive/MyDrive/01 - Laboral/Accenture/Data academy/Data engineering/teams_(1).csv\", format='csv', sep=',', header=\"true\")\n",
        "games = spark.read.load(\"/content/drive/MyDrive/01 - Laboral/Accenture/Data academy/Data engineering/games_(1).csv\", format='csv', sep=',', header=\"true\")\n",
        "games_details = spark.read.load(\"/content/drive/MyDrive/01 - Laboral/Accenture/Data academy/Data engineering/games_details.csv\", format='csv', sep=',', header=\"true\")\n",
        "ranking = spark.read.load(\"/content/drive/MyDrive/01 - Laboral/Accenture/Data academy/Data engineering/ranking.csv\", format='csv', sep=',', header=\"true\")"
      ],
      "metadata": {
        "id": "Q-vD0_NrZfDV"
      },
      "execution_count": 9,
      "outputs": []
    },
    {
      "cell_type": "code",
      "source": [
        "players.show(5)"
      ],
      "metadata": {
        "colab": {
          "base_uri": "https://localhost:8080/"
        },
        "id": "HddZGW71av0O",
        "outputId": "107e247b-bf6c-410d-873f-e9cd07bf2e8b"
      },
      "execution_count": 38,
      "outputs": [
        {
          "output_type": "stream",
          "name": "stdout",
          "text": [
            "+----------------+----------+---------+------+\n",
            "|     PLAYER_NAME|   TEAM_ID|PLAYER_ID|SEASON|\n",
            "+----------------+----------+---------+------+\n",
            "|   Royce O'Neale|1610612762|  1626220|  2019|\n",
            "|Bojan Bogdanovic|1610612762|   202711|  2019|\n",
            "|     Rudy Gobert|1610612762|   203497|  2019|\n",
            "|Donovan Mitchell|1610612762|  1628378|  2019|\n",
            "|     Mike Conley|1610612762|   201144|  2019|\n",
            "+----------------+----------+---------+------+\n",
            "only showing top 5 rows\n",
            "\n"
          ]
        }
      ]
    },
    {
      "cell_type": "code",
      "source": [
        "teams.show(5)"
      ],
      "metadata": {
        "colab": {
          "base_uri": "https://localhost:8080/"
        },
        "id": "KL1rtLe0a0zH",
        "outputId": "8a59fb87-7226-47d8-d176-bcdec4f1d881"
      },
      "execution_count": 39,
      "outputs": [
        {
          "output_type": "stream",
          "name": "stdout",
          "text": [
            "+---------+----------+--------+--------+------------+---------+-----------+-----------+--------------------+-------------+---------------+--------------+-------------+------------------+\n",
            "|LEAGUE_ID|   TEAM_ID|MIN_YEAR|MAX_YEAR|ABBREVIATION| NICKNAME|YEARFOUNDED|       CITY|               ARENA|ARENACAPACITY|          OWNER|GENERALMANAGER|    HEADCOACH|DLEAGUEAFFILIATION|\n",
            "+---------+----------+--------+--------+------------+---------+-----------+-----------+--------------------+-------------+---------------+--------------+-------------+------------------+\n",
            "|       00|1610612737|    1949|    2019|         ATL|    Hawks|       1949|    Atlanta|    State Farm Arena|        18729|   Tony Ressler|Travis Schlenk| Lloyd Pierce|     Erie Bayhawks|\n",
            "|       00|1610612738|    1946|    2019|         BOS|  Celtics|       1946|     Boston|           TD Garden|        18624|  Wyc Grousbeck|   Danny Ainge| Brad Stevens|   Maine Red Claws|\n",
            "|       00|1610612740|    2002|    2019|         NOP| Pelicans|       2002|New Orleans|Smoothie King Center|         NULL|     Tom Benson|Trajan Langdon| Alvin Gentry|      No Affiliate|\n",
            "|       00|1610612741|    1966|    2019|         CHI|    Bulls|       1966|    Chicago|       United Center|        21711|Jerry Reinsdorf|    Gar Forman|   Jim Boylen|  Windy City Bulls|\n",
            "|       00|1610612742|    1980|    2019|         DAL|Mavericks|       1980|     Dallas|American Airlines...|        19200|     Mark Cuban| Donnie Nelson|Rick Carlisle|     Texas Legends|\n",
            "+---------+----------+--------+--------+------------+---------+-----------+-----------+--------------------+-------------+---------------+--------------+-------------+------------------+\n",
            "only showing top 5 rows\n",
            "\n"
          ]
        }
      ]
    },
    {
      "cell_type": "code",
      "source": [
        "games.show(5)"
      ],
      "metadata": {
        "colab": {
          "base_uri": "https://localhost:8080/"
        },
        "id": "MU76c7Tfa7dE",
        "outputId": "fdeee60c-4737-42cd-c5ee-da3debe4fb85"
      },
      "execution_count": 40,
      "outputs": [
        {
          "output_type": "stream",
          "name": "stdout",
          "text": [
            "+-------------+--------+----------------+------------+---------------+------+------------+--------+-----------+-----------+------------+--------+--------+------------+--------+-----------+-----------+------------+--------+--------+--------------+\n",
            "|GAME_DATE_EST| GAME_ID|GAME_STATUS_TEXT|HOME_TEAM_ID|VISITOR_TEAM_ID|SEASON|TEAM_ID_home|PTS_home|FG_PCT_home|FT_PCT_home|FG3_PCT_home|AST_home|REB_home|TEAM_ID_away|PTS_away|FG_PCT_away|FT_PCT_away|FG3_PCT_away|AST_away|REB_away|HOME_TEAM_WINS|\n",
            "+-------------+--------+----------------+------------+---------------+------+------------+--------+-----------+-----------+------------+--------+--------+------------+--------+-----------+-----------+------------+--------+--------+--------------+\n",
            "|   2022-03-12|22101005|           Final|  1610612748|     1610612750|  2021|  1610612748|     104|      0.398|       0.76|       0.333|      23|      53|  1610612750|     113|      0.422|      0.875|       0.357|      21|      46|             0|\n",
            "|   2022-03-12|22101006|           Final|  1610612741|     1610612739|  2021|  1610612741|     101|      0.443|      0.933|       0.429|      20|      46|  1610612739|      91|      0.419|      0.824|       0.208|      19|      40|             1|\n",
            "|   2022-03-12|22101007|           Final|  1610612759|     1610612754|  2021|  1610612759|     108|      0.412|      0.813|       0.324|      28|      52|  1610612754|     119|      0.489|        1.0|       0.389|      23|      47|             0|\n",
            "|   2022-03-12|22101008|           Final|  1610612744|     1610612749|  2021|  1610612744|     122|      0.484|      0.933|         0.4|      33|      55|  1610612749|     109|      0.413|      0.696|       0.386|      27|      39|             1|\n",
            "|   2022-03-12|22101009|           Final|  1610612743|     1610612761|  2021|  1610612743|     115|      0.551|       0.75|       0.407|      32|      39|  1610612761|     127|      0.471|       0.76|       0.387|      28|      50|             0|\n",
            "+-------------+--------+----------------+------------+---------------+------+------------+--------+-----------+-----------+------------+--------+--------+------------+--------+-----------+-----------+------------+--------+--------+--------------+\n",
            "only showing top 5 rows\n",
            "\n"
          ]
        }
      ]
    },
    {
      "cell_type": "code",
      "source": [
        "players.createOrReplaceTempView('players')\n",
        "teams.createOrReplaceTempView('teams')\n",
        "games.createOrReplaceTempView('games')\n",
        "games_details.createOrReplaceTempView('games_details')\n",
        "ranking.createOrReplaceTempView('ranking')\n"
      ],
      "metadata": {
        "id": "7HigS1KEbKfu"
      },
      "execution_count": 10,
      "outputs": []
    },
    {
      "cell_type": "code",
      "source": [
        "games_clean = spark.sql(\"\"\"\n",
        "  SELECT\n",
        "    *\n",
        "  FROM\n",
        "    games\n",
        "  WHERE\n",
        "    PTS_home IS NOT NULL\n",
        "\n",
        "\"\"\")\n",
        "\n",
        "games_clean.createOrReplaceTempView('games_clean')"
      ],
      "metadata": {
        "id": "2abo8ED1eRuQ"
      },
      "execution_count": 11,
      "outputs": []
    },
    {
      "cell_type": "code",
      "source": [
        "games_clean.show(5)"
      ],
      "metadata": {
        "colab": {
          "base_uri": "https://localhost:8080/"
        },
        "id": "c00zBDGNp_-W",
        "outputId": "b8191e4b-0d54-4434-eeac-a19699a111b4"
      },
      "execution_count": 23,
      "outputs": [
        {
          "output_type": "stream",
          "name": "stdout",
          "text": [
            "+-------------+--------+----------------+------------+---------------+------+------------+--------+-----------+-----------+------------+--------+--------+------------+--------+-----------+-----------+------------+--------+--------+--------------+\n",
            "|GAME_DATE_EST| GAME_ID|GAME_STATUS_TEXT|HOME_TEAM_ID|VISITOR_TEAM_ID|SEASON|TEAM_ID_home|PTS_home|FG_PCT_home|FT_PCT_home|FG3_PCT_home|AST_home|REB_home|TEAM_ID_away|PTS_away|FG_PCT_away|FT_PCT_away|FG3_PCT_away|AST_away|REB_away|HOME_TEAM_WINS|\n",
            "+-------------+--------+----------------+------------+---------------+------+------------+--------+-----------+-----------+------------+--------+--------+------------+--------+-----------+-----------+------------+--------+--------+--------------+\n",
            "|   2022-03-12|22101005|           Final|  1610612748|     1610612750|  2021|  1610612748|     104|      0.398|       0.76|       0.333|      23|      53|  1610612750|     113|      0.422|      0.875|       0.357|      21|      46|             0|\n",
            "|   2022-03-12|22101006|           Final|  1610612741|     1610612739|  2021|  1610612741|     101|      0.443|      0.933|       0.429|      20|      46|  1610612739|      91|      0.419|      0.824|       0.208|      19|      40|             1|\n",
            "|   2022-03-12|22101007|           Final|  1610612759|     1610612754|  2021|  1610612759|     108|      0.412|      0.813|       0.324|      28|      52|  1610612754|     119|      0.489|        1.0|       0.389|      23|      47|             0|\n",
            "|   2022-03-12|22101008|           Final|  1610612744|     1610612749|  2021|  1610612744|     122|      0.484|      0.933|         0.4|      33|      55|  1610612749|     109|      0.413|      0.696|       0.386|      27|      39|             1|\n",
            "|   2022-03-12|22101009|           Final|  1610612743|     1610612761|  2021|  1610612743|     115|      0.551|       0.75|       0.407|      32|      39|  1610612761|     127|      0.471|       0.76|       0.387|      28|      50|             0|\n",
            "+-------------+--------+----------------+------------+---------------+------+------------+--------+-----------+-----------+------------+--------+--------+------------+--------+-----------+-----------+------------+--------+--------+--------------+\n",
            "only showing top 5 rows\n",
            "\n"
          ]
        }
      ]
    },
    {
      "cell_type": "code",
      "source": [
        "temporadas_unicas = spark.sql(\"\"\"\n",
        "SELECT\n",
        "  PLAYER_NAME,\n",
        "  COUNT(DISTINCT SEASON) AS TEMPORADAS_DISTINCT\n",
        "FROM\n",
        "  players\n",
        "GROUP BY\n",
        "  PLAYER_NAME\n",
        "ORDER BY\n",
        "  TEMPORADAS_DISTINCT DESC;\n",
        "\n",
        "\"\"\")\n",
        "\n",
        "temporadas_unicas.createOrReplaceTempView('temporadas_unicas')"
      ],
      "metadata": {
        "id": "QSRVg4QTbqI_"
      },
      "execution_count": 28,
      "outputs": []
    },
    {
      "cell_type": "code",
      "source": [
        "temporadas_unicas.show()"
      ],
      "metadata": {
        "colab": {
          "base_uri": "https://localhost:8080/"
        },
        "id": "cTgb2CEvtU-4",
        "outputId": "ae632a96-6dd9-4acb-e93f-c47d0c5fbebb"
      },
      "execution_count": 32,
      "outputs": [
        {
          "output_type": "stream",
          "name": "stdout",
          "text": [
            "+---------------+-------------------+\n",
            "|    PLAYER_NAME|TEMPORADAS_DISTINCT|\n",
            "+---------------+-------------------+\n",
            "|    Ian Mahinmi|                 11|\n",
            "|    Kyle Korver|                 11|\n",
            "|     Taj Gibson|                 11|\n",
            "|           Nene|                 11|\n",
            "|       Rudy Gay|                 11|\n",
            "|     J.J. Barea|                 11|\n",
            "|Wayne Ellington|                 11|\n",
            "|    Patty Mills|                 11|\n",
            "|   Courtney Lee|                 11|\n",
            "|     Al Horford|                 11|\n",
            "|    Danny Green|                 11|\n",
            "|    Eric Gordon|                 11|\n",
            "|   James Harden|                 11|\n",
            "|     Kevin Love|                 11|\n",
            "|   Lou Williams|                 11|\n",
            "|    George Hill|                 11|\n",
            "|      Pau Gasol|                 11|\n",
            "|   Jared Dudley|                 11|\n",
            "|    Serge Ibaka|                 11|\n",
            "|  D.J. Augustin|                 11|\n",
            "+---------------+-------------------+\n",
            "only showing top 20 rows\n",
            "\n"
          ]
        }
      ]
    },
    {
      "cell_type": "markdown",
      "source": [
        "# 2- Calcular el promedio de puntos anotados por los equipos en casa y fuera de casa"
      ],
      "metadata": {
        "id": "DHQ-Q5ayq5Nr"
      }
    },
    {
      "cell_type": "code",
      "source": [
        "home = spark.sql(\"\"\"\n",
        "  SELECT\n",
        "    HOME_TEAM_ID AS TEAM_ID,\n",
        "    ROUND(AVG(PTS_home),2) AS PTS_HOME_AVG\n",
        "  FROM\n",
        "    games_clean\n",
        "  GROUP BY\n",
        "    TEAM_ID\n",
        "\"\"\"\n",
        ")\n",
        "\n",
        "home.createOrReplaceTempView('home')\n",
        "\n",
        "visitor = spark.sql(\"\"\"\n",
        "  SELECT\n",
        "    VISITOR_TEAM_ID AS TEAM_ID,\n",
        "    ROUND(AVG(PTS_away),2) AS PTS_VISITOR_AVG\n",
        "  FROM\n",
        "    games_clean\n",
        "  GROUP BY\n",
        "    TEAM_ID\n",
        "\"\"\"\n",
        ")\n",
        "\n",
        "visitor.createOrReplaceTempView('visitor')\n",
        "\n",
        "puntos_totales = spark.sql(\"\"\"\n",
        "  SELECT\n",
        "    t.NICKNAME,\n",
        "    h.PTS_HOME_AVG,\n",
        "    v.PTS_VISITOR_AVG\n",
        "  FROM\n",
        "    home AS h\n",
        "  JOIN\n",
        "    visitor AS v\n",
        "    ON h.TEAM_ID = v.TEAM_ID\n",
        "  JOIN\n",
        "    teams AS t\n",
        "    ON h.TEAM_ID = t.TEAM_ID\n",
        "\"\"\"\n",
        ")\n",
        "\n",
        "puntos_totales.createOrReplaceTempView('puntos_totales')"
      ],
      "metadata": {
        "id": "sbD338g7t2np"
      },
      "execution_count": 53,
      "outputs": []
    },
    {
      "cell_type": "code",
      "source": [
        "puntos_totales.show()"
      ],
      "metadata": {
        "colab": {
          "base_uri": "https://localhost:8080/"
        },
        "id": "OXDruKLLvVp6",
        "outputId": "b1ebcfaf-a80e-4dfb-a322-25a7a78113a9"
      },
      "execution_count": 54,
      "outputs": [
        {
          "output_type": "stream",
          "name": "stdout",
          "text": [
            "+---------+------------+---------------+\n",
            "| NICKNAME|PTS_HOME_AVG|PTS_VISITOR_AVG|\n",
            "+---------+------------+---------------+\n",
            "|    76ers|       101.4|          98.89|\n",
            "|    Magic|      100.99|          98.57|\n",
            "|    Spurs|      103.87|         100.32|\n",
            "| Pelicans|      101.75|          99.18|\n",
            "|    Kings|       104.9|         101.33|\n",
            "|   Lakers|      104.23|         102.15|\n",
            "| Clippers|       103.7|         101.54|\n",
            "|    Bucks|      103.72|         100.61|\n",
            "|    Hawks|       102.4|          98.79|\n",
            "|    Bulls|      100.24|           98.8|\n",
            "| Warriors|      109.25|         105.28|\n",
            "|  Pistons|       99.46|          96.39|\n",
            "|     Heat|      101.86|          98.05|\n",
            "|  Celtics|      102.11|         100.35|\n",
            "|Grizzlies|      100.92|          98.64|\n",
            "|Mavericks|      104.71|         101.03|\n",
            "|  Wizards|      103.83|          99.98|\n",
            "|  Rockets|      104.47|         102.68|\n",
            "|  Raptors|      103.79|         100.99|\n",
            "|     Nets|       100.5|          99.26|\n",
            "+---------+------------+---------------+\n",
            "only showing top 20 rows\n",
            "\n"
          ]
        }
      ]
    },
    {
      "cell_type": "markdown",
      "source": [
        "# 3- Encontrar los jugadores que tienen un promedio de más de 10 puntos por partido"
      ],
      "metadata": {
        "id": "WoF4zkbayZew"
      }
    },
    {
      "cell_type": "code",
      "source": [
        "spark.sql(\"\"\"\n",
        "  SELECT\n",
        "    PLAYER_NAME,\n",
        "    ROUND(AVG(PTS),2) AS AVG_PTS\n",
        "  FROM\n",
        "    games_details\n",
        "  GROUP BY\n",
        "    PLAYER_NAME\n",
        "  HAVING AVG_PTS > 10\n",
        "  ORDER BY\n",
        "    AVG_PTS DESC\n",
        "\"\"\"\n",
        ").show()"
      ],
      "metadata": {
        "colab": {
          "base_uri": "https://localhost:8080/"
        },
        "id": "7ThOtaYCyuUq",
        "outputId": "4a0158fb-2a64-4b3b-fd59-6704b1572181"
      },
      "execution_count": 63,
      "outputs": [
        {
          "output_type": "stream",
          "name": "stdout",
          "text": [
            "+--------------------+-------+\n",
            "|         PLAYER_NAME|AVG_PTS|\n",
            "+--------------------+-------+\n",
            "|        Kevin Durant|  26.96|\n",
            "|        LeBron James|  26.83|\n",
            "|         Kobe Bryant|  26.62|\n",
            "|         Luka Doncic|  26.05|\n",
            "|       Allen Iverson|  25.86|\n",
            "|     Zion Williamson|  25.62|\n",
            "|         Joel Embiid|  24.97|\n",
            "|          Trae Young|  24.68|\n",
            "|        James Harden|  24.44|\n",
            "|      Damian Lillard|  24.31|\n",
            "|       Stephen Curry|  24.14|\n",
            "|    Donovan Mitchell|  23.75|\n",
            "|       Anthony Davis|  23.53|\n",
            "|        Devin Booker|  23.03|\n",
            "|        Kyrie Irving|  22.66|\n",
            "|  Karl-Anthony Towns|  22.57|\n",
            "|   Russell Westbrook|  22.54|\n",
            "|     Carmelo Anthony|  22.25|\n",
            "|Giannis Antetokou...|   21.7|\n",
            "|        Bradley Beal|  21.68|\n",
            "+--------------------+-------+\n",
            "only showing top 20 rows\n",
            "\n"
          ]
        }
      ]
    },
    {
      "cell_type": "markdown",
      "source": [
        "# 4- Ordenar los equipos por su porcentaje de victorias en la conferencia Oeste"
      ],
      "metadata": {
        "id": "m5t9IJAa0MNp"
      }
    },
    {
      "cell_type": "code",
      "source": [
        "spark.sql(\"\"\"\n",
        "SELECT\n",
        "  b.NICKNAME,\n",
        "  a.W_PCT\n",
        "FROM\n",
        "  ranking a\n",
        "JOIN\n",
        "  teams b\n",
        "  ON a.TEAM_ID = b.TEAM_ID\n",
        "WHERE\n",
        "  CONFERENCE = 'West'\n",
        "ORDER BY\n",
        "  W_PCT DESC\n",
        "\"\"\").show()"
      ],
      "metadata": {
        "colab": {
          "base_uri": "https://localhost:8080/"
        },
        "id": "y6msyT--yg1O",
        "outputId": "a77a2125-b34e-455f-8310-27f7afd0805c"
      },
      "execution_count": 12,
      "outputs": [
        {
          "output_type": "stream",
          "name": "stdout",
          "text": [
            "+------------+-----+\n",
            "|    NICKNAME|W_PCT|\n",
            "+------------+-----+\n",
            "|        Jazz|  1.0|\n",
            "|   Grizzlies|  1.0|\n",
            "|        Jazz|  1.0|\n",
            "|     Nuggets|  1.0|\n",
            "|        Jazz|  1.0|\n",
            "|Timberwolves|  1.0|\n",
            "|    Warriors|  1.0|\n",
            "|        Jazz|  1.0|\n",
            "|    Warriors|  1.0|\n",
            "|        Jazz|  1.0|\n",
            "|    Warriors|  1.0|\n",
            "|        Jazz|  1.0|\n",
            "|    Warriors|  1.0|\n",
            "|        Jazz|  1.0|\n",
            "|     Nuggets|  1.0|\n",
            "|    Warriors|  1.0|\n",
            "|   Grizzlies|  1.0|\n",
            "|Timberwolves|  1.0|\n",
            "|        Jazz|  1.0|\n",
            "|     Nuggets|  1.0|\n",
            "+------------+-----+\n",
            "only showing top 20 rows\n",
            "\n"
          ]
        }
      ]
    },
    {
      "cell_type": "markdown",
      "source": [
        "# 5- Identificar el jugador que ha jugado en más temporadas consecutivas"
      ],
      "metadata": {
        "id": "n7Mf3A5KYGV0"
      }
    },
    {
      "cell_type": "code",
      "source": [
        "unique_player_season = spark.sql (\"\"\"\n",
        "  SELECT DISTINCT\n",
        "    PLAYER_ID,\n",
        "    SEASON\n",
        "  FROM\n",
        "    players\n",
        "\"\"\"\n",
        "  )\n",
        "\n",
        "unique_player_season.createOrReplaceTempView('unique_player_season')\n",
        "\n",
        "season_difference = spark.sql (\"\"\"\n",
        "  SELECT\n",
        "    PLAYER_ID,\n",
        "    SEASON,\n",
        "    SEASON - LAG(SEASON, 1) OVER (PARTITION BY PLAYER_ID ORDER BY SEASON) SEASON_DIFF\n",
        "  FROM\n",
        "    unique_player_season\n",
        "\"\"\"\n",
        ")\n",
        "\n",
        "season_difference.createOrReplaceTempView('season_difference')\n",
        "\n",
        "continuidad = spark.sql (\"\"\"\n",
        "  SELECT\n",
        "    PLAYER_ID,\n",
        "    SUM(SEASON_DIFF) AS TEMPORADAS_CONTINUAS\n",
        "  FROM\n",
        "    season_difference\n",
        "  WHERE\n",
        "    SEASON_DIFF = 1\n",
        "  GROUP BY\n",
        "    PLAYER_ID\n",
        "\"\"\"\n",
        ")\n",
        "\n",
        "continuidad.createOrReplaceTempView('continuidad')\n",
        "\n",
        "temporadas_consecutivas = spark.sql(\"\"\"\n",
        "SELECT\n",
        "  a.PLAYER_ID,\n",
        "  b.PLAYER_NAME,\n",
        "  a.TEMPORADAS_CONTINUAS AS TOP1\n",
        "FROM\n",
        "  continuidad a\n",
        "JOIN\n",
        "  (SELECT DISTINCT PLAYER_ID, PLAYER_NAME FROM players) b\n",
        "  ON a.PLAYER_ID = b.PLAYER_ID\n",
        "WHERE\n",
        "  TEMPORADAS_CONTINUAS = (SELECT MAX(TEMPORADAS_CONTINUAS) FROM continuidad)\n",
        "\"\"\")\n",
        "\n",
        "temporadas_consecutivas.createOrReplaceTempView('temporadas_consecutivas')\n",
        "\n",
        "temporadas_consecutivas.show()"
      ],
      "metadata": {
        "colab": {
          "base_uri": "https://localhost:8080/"
        },
        "id": "V-ASTSPhVMBl",
        "outputId": "2e933514-eaf0-4f4f-d780-b92ecd39a109"
      },
      "execution_count": 83,
      "outputs": [
        {
          "output_type": "stream",
          "name": "stdout",
          "text": [
            "+---------+-----------------+----+\n",
            "|PLAYER_ID|      PLAYER_NAME|TOP1|\n",
            "+---------+-----------------+----+\n",
            "|   101107|  Marvin Williams|10.0|\n",
            "|   101108|       Chris Paul|10.0|\n",
            "|   101133|      Ian Mahinmi|10.0|\n",
            "|   101139|         CJ Miles|10.0|\n",
            "|   101141|   Ersan Ilyasova|10.0|\n",
            "|   101150|     Lou Williams|10.0|\n",
            "|     1713|     Vince Carter|10.0|\n",
            "|   200746|LaMarcus Aldridge|10.0|\n",
            "|   200752|         Rudy Gay|10.0|\n",
            "|   200755|        JJ Redick|10.0|\n",
            "|   200757|  Thabo Sefolosha|10.0|\n",
            "|   200765|      Rajon Rondo|10.0|\n",
            "|   200768|       Kyle Lowry|10.0|\n",
            "|   200794|     Paul Millsap|10.0|\n",
            "|   200826|       J.J. Barea|10.0|\n",
            "|   201142|     Kevin Durant|10.0|\n",
            "|   201143|       Al Horford|10.0|\n",
            "|   201144|      Mike Conley|10.0|\n",
            "|   201152|   Thaddeus Young|10.0|\n",
            "|   201158|  Marco Belinelli|10.0|\n",
            "+---------+-----------------+----+\n",
            "only showing top 20 rows\n",
            "\n"
          ]
        }
      ]
    },
    {
      "cell_type": "markdown",
      "source": [
        "# 6- Calcular el porcentaje de juegos ganados en casa para cada equipo"
      ],
      "metadata": {
        "id": "AbveWpeTWVDk"
      }
    },
    {
      "cell_type": "code",
      "source": [
        "victorias = spark.sql(\"\"\"\n",
        "  SELECT\n",
        "    HOME_TEAM_ID,\n",
        "    COUNT(HOME_TEAM_ID) VICTORIAS\n",
        "  FROM\n",
        "    games_clean\n",
        "  WHERE\n",
        "    HOME_TEAM_WINS = 1\n",
        "  GROUP BY\n",
        "    HOME_TEAM_ID\n",
        "  \"\"\"\n",
        ")\n",
        "\n",
        "victorias.createOrReplaceTempView('victorias')\n",
        "\n",
        "total = spark.sql(\"\"\"\n",
        "  SELECT\n",
        "    HOME_TEAM_ID,\n",
        "    COUNT(HOME_TEAM_ID) TOTAL\n",
        "  FROM\n",
        "    games_clean\n",
        "  GROUP BY\n",
        "    HOME_TEAM_ID\n",
        "\"\"\"\n",
        ")\n",
        "\n",
        "total.createOrReplaceTempView('total')\n",
        "\n",
        "ganados = spark.sql(\"\"\"\n",
        "  SELECT\n",
        "    a.HOME_TEAM_ID,\n",
        "    c.NICKNAME,\n",
        "    ROUND(((VICTORIAS / TOTAL)*100), 2) AS PERC_VICTORIAS\n",
        "  FROM\n",
        "    victorias a\n",
        "  JOIN\n",
        "    total b\n",
        "    ON a.HOME_TEAM_ID = b.HOME_TEAM_ID\n",
        "  JOIN\n",
        "    teams c\n",
        "    ON a.HOME_TEAM_ID = c.TEAM_ID\n",
        "  ORDER BY\n",
        "    PERC_VICTORIAS DESC\n",
        "\"\"\"\n",
        ")\n",
        "\n",
        "ganados.createOrReplaceTempView('ganados')\n",
        "\n",
        "ganados.show()"
      ],
      "metadata": {
        "colab": {
          "base_uri": "https://localhost:8080/"
        },
        "id": "mTbtc60AU--o",
        "outputId": "8fcec7e7-f6ee-4137-ce22-930f59fd0c96"
      },
      "execution_count": 84,
      "outputs": [
        {
          "output_type": "stream",
          "name": "stdout",
          "text": [
            "+------------+-------------+--------------+\n",
            "|HOME_TEAM_ID|     NICKNAME|PERC_VICTORIAS|\n",
            "+------------+-------------+--------------+\n",
            "|  1610612759|        Spurs|          74.4|\n",
            "|  1610612743|      Nuggets|         67.85|\n",
            "|  1610612744|     Warriors|         66.59|\n",
            "|  1610612748|         Heat|         66.27|\n",
            "|  1610612762|         Jazz|         66.11|\n",
            "|  1610612742|    Mavericks|         65.37|\n",
            "|  1610612745|      Rockets|          64.6|\n",
            "|  1610612738|      Celtics|         63.78|\n",
            "|  1610612754|       Pacers|         62.73|\n",
            "|  1610612757|Trail Blazers|         61.04|\n",
            "|  1610612760|      Thunder|         60.51|\n",
            "|  1610612747|       Lakers|         60.19|\n",
            "|  1610612746|     Clippers|         59.95|\n",
            "|  1610612739|    Cavaliers|         59.91|\n",
            "|  1610612761|      Raptors|         59.39|\n",
            "|  1610612763|    Grizzlies|         59.25|\n",
            "|  1610612741|        Bulls|         58.16|\n",
            "|  1610612765|      Pistons|         58.03|\n",
            "|  1610612749|        Bucks|         57.71|\n",
            "|  1610612756|         Suns|         57.29|\n",
            "+------------+-------------+--------------+\n",
            "only showing top 20 rows\n",
            "\n"
          ]
        }
      ]
    },
    {
      "cell_type": "markdown",
      "source": [
        "# 7- Encontrar los jugadores que han tenido un aumento significativo en el promedio de puntos por partido\n"
      ],
      "metadata": {
        "id": "LgEJVP4oXmDp"
      }
    },
    {
      "cell_type": "code",
      "source": [
        "games_details.show(5)"
      ],
      "metadata": {
        "colab": {
          "base_uri": "https://localhost:8080/"
        },
        "id": "7lBc0a6kXeAY",
        "outputId": "53e2c549-974b-423f-b9a4-634df0a7eee6"
      },
      "execution_count": 85,
      "outputs": [
        {
          "output_type": "stream",
          "name": "stdout",
          "text": [
            "+--------+----------+-----------------+---------+---------+------------------+------------+--------------+-------+-----+---+----+------+----+----+-------+---+---+------+----+----+----+---+---+---+---+---+----+----------+\n",
            "| GAME_ID|   TEAM_ID|TEAM_ABBREVIATION|TEAM_CITY|PLAYER_ID|       PLAYER_NAME|    NICKNAME|START_POSITION|COMMENT|  MIN|FGM| FGA|FG_PCT|FG3M|FG3A|FG3_PCT|FTM|FTA|FT_PCT|OREB|DREB| REB|AST|STL|BLK| TO| PF| PTS|PLUS_MINUS|\n",
            "+--------+----------+-----------------+---------+---------+------------------+------------+--------------+-------+-----+---+----+------+----+----+-------+---+---+------+----+----+----+---+---+---+---+---+----+----------+\n",
            "|22101005|1610612750|              MIN|Minnesota|  1630162|   Anthony Edwards|     Anthony|             F|   NULL|36:22|4.0|10.0|   0.4| 3.0| 8.0|  0.375|4.0|4.0|   1.0| 0.0| 8.0| 8.0|5.0|3.0|1.0|1.0|1.0|15.0|       5.0|\n",
            "|22101005|1610612750|              MIN|Minnesota|  1630183|   Jaden McDaniels|       Jaden|             F|   NULL|23:54|6.0| 8.0|  0.75| 1.0| 3.0|  0.333|1.0|1.0|   1.0| 2.0| 4.0| 6.0|0.0|0.0|2.0|2.0|6.0|14.0|      10.0|\n",
            "|22101005|1610612750|              MIN|Minnesota|  1626157|Karl-Anthony Towns|Karl-Anthony|             C|   NULL|25:17|4.0| 9.0| 0.444| 1.0| 3.0|  0.333|6.0|8.0|  0.75| 1.0| 9.0|10.0|0.0|0.0|0.0|3.0|4.0|15.0|      14.0|\n",
            "|22101005|1610612750|              MIN|Minnesota|  1627736|     Malik Beasley|       Malik|             G|   NULL|30:52|4.0| 9.0| 0.444| 4.0| 9.0|  0.444|0.0|0.0|   0.0| 0.0| 3.0| 3.0|1.0|1.0|0.0|1.0|4.0|12.0|      20.0|\n",
            "|22101005|1610612750|              MIN|Minnesota|  1626156|  D'Angelo Russell|    D'Angelo|             G|   NULL|33:46|3.0|13.0| 0.231| 1.0| 6.0|  0.167|7.0|7.0|   1.0| 0.0| 6.0| 6.0|9.0|1.0|0.0|5.0|0.0|14.0|      17.0|\n",
            "+--------+----------+-----------------+---------+---------+------------------+------------+--------------+-------+-----+---+----+------+----+----+-------+---+---+------+----+----+----+---+---+---+---+---+----+----------+\n",
            "only showing top 5 rows\n",
            "\n"
          ]
        }
      ]
    },
    {
      "cell_type": "markdown",
      "source": [
        "# 8- Calcular la diferencia en el porcentaje de victorias entre temporadas para cada equipo"
      ],
      "metadata": {
        "id": "58bxviuZZYmq"
      }
    },
    {
      "cell_type": "code",
      "source": [
        "# total de partidos ganados por equipo por año\n",
        "\n",
        "victorias_year = spark.sql(\"\"\"\n",
        "  SELECT\n",
        "    HOME_TEAM_ID AS TEAM_ID,\n",
        "    SEASON,\n",
        "    SUM(HOME_TEAM_WINS) AS VICTORIAS\n",
        "\n",
        "  FROM\n",
        "    games_clean\n",
        "  WHERE\n",
        "    HOME_TEAM_WINS = 1\n",
        "  GROUP BY\n",
        "    TEAM_ID,\n",
        "    SEASON\n",
        "\n",
        "UNION ALL\n",
        "\n",
        "  SELECT\n",
        "    VISITOR_TEAM_ID AS TEAM_ID,\n",
        "    SEASON,\n",
        "    SUM(1) AS VICTORIAS\n",
        "\n",
        "  FROM\n",
        "    games_clean\n",
        "  WHERE\n",
        "    HOME_TEAM_WINS = 0\n",
        "  GROUP BY\n",
        "    TEAM_ID,\n",
        "    SEASON\n",
        "\"\"\"\n",
        ")\n",
        "\n",
        "victorias_year.createOrReplaceTempView('victorias_year')\n",
        "\n",
        "# suma las victorias como home y visitor para cada equipo para cada año\n",
        "\n",
        "total_victorias_year = spark.sql(\"\"\"\n",
        "  SELECT\n",
        "    TEAM_ID,\n",
        "    SEASON,\n",
        "    SUM(VICTORIAS)\n",
        "  FROM\n",
        "    victorias_year\n",
        "  GROUP BY\n",
        "    TEAM_ID,\n",
        "    SEASON\n",
        "\"\"\"\n",
        ")\n",
        "\n",
        "total_victorias_year.createOrReplaceTempView('total_victorias_year')\n",
        "\n",
        "# total de partidos por equipo por año\n",
        "\n",
        "total_year_home_visitor = spark.sql(\"\"\"\n",
        "  SELECT\n",
        "    HOME_TEAM_ID AS TEAM_ID,\n",
        "    SEASON,\n",
        "    COUNT(HOME_TEAM_ID) AS TOTAL\n",
        "  FROM\n",
        "    games_clean\n",
        "  GROUP BY\n",
        "    TEAM_ID,\n",
        "    SEASON\n",
        "\n",
        "  UNION ALL\n",
        "\n",
        "  SELECT\n",
        "    VISITOR_TEAM_ID AS TEAM_ID,\n",
        "    SEASON,\n",
        "    COUNT(VISITOR_TEAM_ID) AS TOTAL\n",
        "  FROM\n",
        "    games_clean\n",
        "  GROUP BY\n",
        "    TEAM_ID,\n",
        "    SEASON\n",
        "\"\"\")\n",
        "\n",
        "total_year_home_visitor.createOrReplaceTempView('total_year_home_visitor')\n",
        "\n",
        "total_year = spark.sql(\"\"\"\n",
        "  SELECT\n",
        "    TEAM_ID,\n",
        "    SEASON,\n",
        "    SUM(TOTAL) AS TOTAL\n",
        "  FROM\n",
        "    total_year_home_visitor\n",
        "  GROUP BY\n",
        "    TEAM_ID,\n",
        "    SEASON\n",
        "\"\"\")\n",
        "\n",
        "total_year.createOrReplaceTempView('total_year')\n",
        "\n",
        "#- porcentaje de victorias por equipo por año\n",
        "perc_victorias_year = spark.sql(\"\"\"\n",
        "  SELECT\n",
        "    a.TEAM_ID,\n",
        "    a.SEASON,\n",
        "    a.VICTORIAS / b.TOTAL AS PERC_VICTORIAS\n",
        "  FROM\n",
        "    victorias_year a\n",
        "  LEFT JOIN\n",
        "    total_year b\n",
        "    ON\n",
        "      a.TEAM_ID = b.TEAM_ID\n",
        "      AND a.SEASON = b.SEASON\n",
        "\"\"\")\n",
        "\n",
        "perc_victorias_year.createOrReplaceTempView('perc_victorias_year')\n",
        "\n",
        "victorias_dif = spark.sql(\"\"\"\n",
        "  SELECT\n",
        "    a.TEAM_ID,\n",
        "    b.NICKNAME,\n",
        "    a.SEASON,\n",
        "    ROUND((a.PERC_VICTORIAS - LAG(a.PERC_VICTORIAS, 1) OVER (PARTITION BY NICKNAME ORDER BY SEASON)),2) AS PERC_DIFF\n",
        "  FROM\n",
        "    perc_victorias_year a\n",
        "  JOIN\n",
        "    teams b\n",
        "    ON a.TEAM_ID = b.TEAM_ID\n",
        "\"\"\")\n",
        "\n",
        "victorias_dif.createOrReplaceTempView('victorias_dif')\n",
        "\n",
        "victorias_dif.show()"
      ],
      "metadata": {
        "colab": {
          "base_uri": "https://localhost:8080/"
        },
        "id": "iLS2zWLCYyyo",
        "outputId": "2e55d89c-614d-41ce-d761-57e65521f644"
      },
      "execution_count": 13,
      "outputs": [
        {
          "output_type": "stream",
          "name": "stdout",
          "text": [
            "+----------+--------+------+---------+\n",
            "|   TEAM_ID|NICKNAME|SEASON|PERC_DIFF|\n",
            "+----------+--------+------+---------+\n",
            "|1610612755|   76ers|  2003|     NULL|\n",
            "|1610612755|   76ers|  2003|    -0.11|\n",
            "|1610612755|   76ers|  2004|     0.17|\n",
            "|1610612755|   76ers|  2004|    -0.11|\n",
            "|1610612755|   76ers|  2005|     0.07|\n",
            "|1610612755|   76ers|  2005|    -0.08|\n",
            "|1610612755|   76ers|  2006|     0.07|\n",
            "|1610612755|   76ers|  2006|     -0.1|\n",
            "|1610612755|   76ers|  2007|     0.08|\n",
            "|1610612755|   76ers|  2007|    -0.02|\n",
            "|1610612755|   76ers|  2008|     0.05|\n",
            "|1610612755|   76ers|  2008|    -0.05|\n",
            "|1610612755|   76ers|  2009|    -0.07|\n",
            "|1610612755|   76ers|  2009|     0.04|\n",
            "|1610612755|   76ers|  2010|     0.11|\n",
            "|1610612755|   76ers|  2010|    -0.15|\n",
            "|1610612755|   76ers|  2011|     0.15|\n",
            "|1610612755|   76ers|  2011|    -0.07|\n",
            "|1610612755|   76ers|  2012|     0.06|\n",
            "|1610612755|   76ers|  2012|    -0.13|\n",
            "+----------+--------+------+---------+\n",
            "only showing top 20 rows\n",
            "\n"
          ]
        }
      ]
    },
    {
      "cell_type": "markdown",
      "source": [
        "# SIMPSONS"
      ],
      "metadata": {
        "id": "yemzGEUzcUKr"
      }
    },
    {
      "cell_type": "code",
      "source": [],
      "metadata": {
        "id": "daHmyvmAb3xx"
      },
      "execution_count": null,
      "outputs": []
    }
  ]
}