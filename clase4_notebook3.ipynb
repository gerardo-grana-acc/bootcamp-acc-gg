{
  "cells": [
    {
      "cell_type": "markdown",
      "id": "a5e8e1c1",
      "metadata": {
        "id": "a5e8e1c1"
      },
      "source": [
        "![](https://i.pinimg.com/originals/73/20/2a/73202af19e27fbfac7acddeb1763e789.jpg)\n",
        "\n",
        "\n",
        "### 1.1\n",
        "Escribir un script que pregunte el nombre del usuario, luego muestre por pantalla el siguiente mensaje:\n",
        "\n",
        "¡Hola ``nombre``!, tu nombre tiene ``cantidad_de_letras`` letras\n",
        "    \n",
        "    \n",
        "- ``nombre`` es el nombre que el usuario haya introducido.\n",
        "- ``cantidad_de_letras`` es la cantidad de letras que posee ``nombre``"
      ]
    },
    {
      "cell_type": "code",
      "source": [
        "nombre = input('Introduce tu nombre: ')\n",
        "\n",
        "print(f'¡Hola {nombre}, tu nombre tiene {len(nombre)} letras!')"
      ],
      "metadata": {
        "id": "Sy66VtouJy7I",
        "colab": {
          "base_uri": "https://localhost:8080/"
        },
        "outputId": "32e2046b-835c-4c13-cd05-3701e3d9defd"
      },
      "id": "Sy66VtouJy7I",
      "execution_count": null,
      "outputs": [
        {
          "output_type": "stream",
          "name": "stdout",
          "text": [
            "Ingrese su nombre: Gerardo\n",
            "¡Hola Gerardo!, tu nombre tiene 7 letras\n"
          ]
        }
      ]
    },
    {
      "cell_type": "markdown",
      "id": "dc225348",
      "metadata": {
        "id": "dc225348"
      },
      "source": [
        "### 1.2\n",
        "Escribir un script que pregunte el nombre y apellido del usuario y después muestre el nombre completo del usuario tres veces:\n",
        "\n",
        "- una con todas las letras minúsculas\n",
        "- otra con todas las letras mayúsculas\n",
        "- otra solo con la primera letra del nombre y de los apellidos en mayúscula."
      ]
    },
    {
      "cell_type": "code",
      "source": [
        "nombre = input('Nombre: ')\n",
        "apellido = input('Apellido: ')\n",
        "\n",
        "print(f'{nombre.lower()}, {apellido.lower()}')\n",
        "print(f'{nombre.upper()}, {apellido.upper()}')\n",
        "print(f'{nombre.capitalize()}, {apellido.capitalize()}')\n"
      ],
      "metadata": {
        "id": "xrIV6LpBJ2rO"
      },
      "id": "xrIV6LpBJ2rO",
      "execution_count": null,
      "outputs": []
    },
    {
      "cell_type": "markdown",
      "id": "d66a4f32",
      "metadata": {
        "id": "d66a4f32"
      },
      "source": [
        "### 1.3\n",
        "Se tiene un dataset cuyos numeros telefonico siguen el siguiente formato: *prefijo-número-extension*\n",
        "\n",
        "Ejemplo: +34-913724710-56\n",
        "\n",
        "- Dado un numero telefonico, se pide mostrar en consola el siguiente mensaje:\n",
        "\n",
        "Su numero de telefono es: +34-913724710-56, Prefijo: 34, Numero: 913724710 y Extension: 56*\n",
        "\n",
        "Nombre = input(\"Cual es tu nombre ? \") **Ojo: no se vale contar caracteres, ya que la longitud tanto del prefijo, numero y extension podrian variar.**"
      ]
    },
    {
      "cell_type": "code",
      "source": [
        "telefono = '+34-913724710-56'\n",
        "lista = list(telefono.split('-'))\n",
        "\n",
        "print(f'Su numero de telefono es: {telefono}, Prefijo: {lista[0]}, Numero: {lista[1]} y Extension: {lista[2]}*')"
      ],
      "metadata": {
        "id": "jQHWywp0qsPv"
      },
      "id": "jQHWywp0qsPv",
      "execution_count": null,
      "outputs": []
    },
    {
      "cell_type": "markdown",
      "id": "1c5f781e",
      "metadata": {
        "id": "1c5f781e"
      },
      "source": [
        "### 1.4\n",
        "Dada la siguiente lista de ``mails_viejos``, pasarla de forma automatizada a la de ``mails_nuevos``"
      ]
    },
    {
      "cell_type": "code",
      "execution_count": null,
      "id": "50dc1f91",
      "metadata": {
        "id": "50dc1f91"
      },
      "outputs": [],
      "source": [
        "mails_viejos = ['Rihanna@hotmail.com', 'lady_gaga@hotmail.com', 'taylor_swift_red@hotmail.com']\n",
        "#mails_nuevos = ['Rihanna@gmail.com', 'lady_gaga@gmail.com', 'taylor_swift_red@gmail.com']"
      ]
    },
    {
      "cell_type": "code",
      "source": [
        "mails_nuevos = []\n",
        "\n",
        "for mail in mails_viejos:\n",
        "  mails_nuevos.append(mail.replace('hotmail', 'gmail'))"
      ],
      "metadata": {
        "id": "CdhgJc3dyR6E"
      },
      "id": "CdhgJc3dyR6E",
      "execution_count": null,
      "outputs": []
    },
    {
      "cell_type": "code",
      "source": [
        "mails_nuevos"
      ],
      "metadata": {
        "colab": {
          "base_uri": "https://localhost:8080/"
        },
        "id": "oDk0MgK_zKVe",
        "outputId": "ef06aaf4-ecb7-471e-a579-046313561303"
      },
      "id": "oDk0MgK_zKVe",
      "execution_count": null,
      "outputs": [
        {
          "output_type": "execute_result",
          "data": {
            "text/plain": [
              "['Rihanna@gmail.com', 'lady_gaga@gmail.com', 'taylor_swift_red@gmail.com']"
            ]
          },
          "metadata": {},
          "execution_count": 51
        }
      ]
    },
    {
      "cell_type": "markdown",
      "id": "1fe46a66",
      "metadata": {
        "id": "1fe46a66"
      },
      "source": [
        "### 1.5\n",
        "Escribir un script que pregunte al usuario por la contraseña e imprima por pantalla si la contraseña introducida por el usuario coincide con la guardada en la variable **sin tener en cuenta mayúsculas y minúsculas.**"
      ]
    },
    {
      "cell_type": "code",
      "execution_count": null,
      "id": "ecbf63ed",
      "metadata": {
        "id": "ecbf63ed"
      },
      "outputs": [],
      "source": [
        "contraseña = 'BOQUITa'"
      ]
    },
    {
      "cell_type": "code",
      "source": [
        "entrada = input('Tu contraseña: ')\n",
        "\n",
        "if entrada.lower() == contraseña.lower():\n",
        "  print('contraseña correcta')\n",
        "else:\n",
        "  print('contraseña incorrecta')"
      ],
      "metadata": {
        "id": "s979ppIeP6hE",
        "colab": {
          "base_uri": "https://localhost:8080/"
        },
        "outputId": "28258a99-0f0b-4ef8-f852-baf35c75aa28"
      },
      "id": "s979ppIeP6hE",
      "execution_count": null,
      "outputs": [
        {
          "output_type": "stream",
          "name": "stdout",
          "text": [
            "Tu contraseña: boka\n",
            "contraseña incorrecta\n"
          ]
        }
      ]
    },
    {
      "cell_type": "markdown",
      "id": "d9d0bf90",
      "metadata": {
        "id": "d9d0bf90"
      },
      "source": [
        "### 1.6\n",
        "Un Banco quiere etiquetar a sus clientes en funcion de su salario para poder saber si puede asignarle o no una tarjeta de crédito. Solo los clientes clase A y B pueden acceder a la tarjeta.\n",
        "\n",
        "| Salario              | Clasificación |\n",
        "|----------------------|---------------|\n",
        "| Menos de 20000       | D             |\n",
        "| Entre 20000 y 50000  | C             |\n",
        "| Entre 50000 y 100000 | B             |\n",
        "| Mas de 100000        | A             |\n",
        "\n",
        "Generar un Script que dado un salario ingresado devuelva que clasificacion tiene y si califica o no para la tarjeta"
      ]
    },
    {
      "cell_type": "code",
      "source": [
        "salario = int(input('Ingrese su salario: '))\n",
        "\n",
        "if salario > 1000000:\n",
        "  print('Clase A, tiene una tarjeta disponible')\n",
        "elif salario >= 50000 and salario < 100000:\n",
        "  print('Clase B, tiene una tarjeta disponible')\n",
        "else:\n",
        "  print('Su salario no clasifica para obtener una tarjeta')"
      ],
      "metadata": {
        "colab": {
          "base_uri": "https://localhost:8080/"
        },
        "id": "SUByzvm4w6hu",
        "outputId": "7a202579-3da5-4f52-d6a9-7dd943604b6c"
      },
      "id": "SUByzvm4w6hu",
      "execution_count": null,
      "outputs": [
        {
          "output_type": "stream",
          "name": "stdout",
          "text": [
            "Ingrese su salario: 1500000\n",
            "Clase A, tiene una tarjeta disponible\n"
          ]
        }
      ]
    },
    {
      "cell_type": "markdown",
      "id": "252e680e",
      "metadata": {
        "id": "252e680e"
      },
      "source": [
        "### 1.7\n",
        "Mostrar en consola todos los numeros desde el 1 hasta el 1000 que sean capicua (1, 11,101,etc)"
      ]
    },
    {
      "cell_type": "code",
      "execution_count": null,
      "id": "188cd7f7",
      "metadata": {
        "id": "188cd7f7",
        "colab": {
          "base_uri": "https://localhost:8080/"
        },
        "outputId": "191d1254-7736-43f2-85fe-f0ad807f3044"
      },
      "outputs": [
        {
          "output_type": "execute_result",
          "data": {
            "text/plain": [
              "[1,\n",
              " 2,\n",
              " 3,\n",
              " 4,\n",
              " 5,\n",
              " 6,\n",
              " 7,\n",
              " 8,\n",
              " 9,\n",
              " 11,\n",
              " 22,\n",
              " 33,\n",
              " 44,\n",
              " 55,\n",
              " 66,\n",
              " 77,\n",
              " 88,\n",
              " 99,\n",
              " 101,\n",
              " 111,\n",
              " 121,\n",
              " 131,\n",
              " 141,\n",
              " 151,\n",
              " 161,\n",
              " 171,\n",
              " 181,\n",
              " 191,\n",
              " 202,\n",
              " 212,\n",
              " 222,\n",
              " 232,\n",
              " 242,\n",
              " 252,\n",
              " 262,\n",
              " 272,\n",
              " 282,\n",
              " 292,\n",
              " 303,\n",
              " 313,\n",
              " 323,\n",
              " 333,\n",
              " 343,\n",
              " 353,\n",
              " 363,\n",
              " 373,\n",
              " 383,\n",
              " 393,\n",
              " 404,\n",
              " 414,\n",
              " 424,\n",
              " 434,\n",
              " 444,\n",
              " 454,\n",
              " 464,\n",
              " 474,\n",
              " 484,\n",
              " 494,\n",
              " 505,\n",
              " 515,\n",
              " 525,\n",
              " 535,\n",
              " 545,\n",
              " 555,\n",
              " 565,\n",
              " 575,\n",
              " 585,\n",
              " 595,\n",
              " 606,\n",
              " 616,\n",
              " 626,\n",
              " 636,\n",
              " 646,\n",
              " 656,\n",
              " 666,\n",
              " 676,\n",
              " 686,\n",
              " 696,\n",
              " 707,\n",
              " 717,\n",
              " 727,\n",
              " 737,\n",
              " 747,\n",
              " 757,\n",
              " 767,\n",
              " 777,\n",
              " 787,\n",
              " 797,\n",
              " 808,\n",
              " 818,\n",
              " 828,\n",
              " 838,\n",
              " 848,\n",
              " 858,\n",
              " 868,\n",
              " 878,\n",
              " 888,\n",
              " 898,\n",
              " 909,\n",
              " 919,\n",
              " 929,\n",
              " 939,\n",
              " 949,\n",
              " 959,\n",
              " 969,\n",
              " 979,\n",
              " 989,\n",
              " 999]"
            ]
          },
          "metadata": {},
          "execution_count": 63
        }
      ],
      "source": [
        "def invertido(n): # robado de internet\n",
        "    numero = 0\n",
        "    while n != 0:\n",
        "        numero = 10*numero+n % 10\n",
        "        n //= 10\n",
        "    return numero\n",
        "\n",
        "capicuas = []\n",
        "\n",
        "for numero in list(range(1,1001)):\n",
        "  if numero == invertido(numero):\n",
        "    capicuas.append(numero)\n",
        "\n",
        "capicuas"
      ]
    },
    {
      "cell_type": "markdown",
      "id": "ed9775d9",
      "metadata": {
        "id": "ed9775d9"
      },
      "source": [
        "### 1.8\n",
        "Escribir un programa que pida al usuario un número entero y muestre por pantalla un triángulo rectángulo como el de más abajo, de altura al número introducido.\n",
        "\n",
        "1\n",
        "\n",
        "3 1\n",
        "\n",
        "5 3 1\n",
        "\n",
        "7 5 3 1\n",
        "\n",
        "9 7 5 3 1"
      ]
    },
    {
      "cell_type": "code",
      "source": [
        "'a'+'a'"
      ],
      "metadata": {
        "colab": {
          "base_uri": "https://localhost:8080/",
          "height": 36
        },
        "id": "Q2u6Xmq8AigH",
        "outputId": "2dcde4f2-5059-4208-bee5-10e7b79d5dfd"
      },
      "id": "Q2u6Xmq8AigH",
      "execution_count": null,
      "outputs": [
        {
          "output_type": "execute_result",
          "data": {
            "text/plain": [
              "'aa'"
            ],
            "application/vnd.google.colaboratory.intrinsic+json": {
              "type": "string"
            }
          },
          "metadata": {},
          "execution_count": 101
        }
      ]
    },
    {
      "cell_type": "code",
      "source": [
        "entrada = abs(int(input('numero positivo: ')))\n",
        "\n",
        "\n",
        "for i in list(range(1,entrada + 1, 2)):\n"
      ],
      "metadata": {
        "id": "CI4Ly4nhP7uw",
        "colab": {
          "base_uri": "https://localhost:8080/",
          "height": 251
        },
        "outputId": "2df2545f-9bba-4651-c0f0-44e6f1750550"
      },
      "id": "CI4Ly4nhP7uw",
      "execution_count": null,
      "outputs": [
        {
          "name": "stdout",
          "output_type": "stream",
          "text": [
            "numero positivo: 5\n"
          ]
        },
        {
          "output_type": "error",
          "ename": "TypeError",
          "evalue": "ignored",
          "traceback": [
            "\u001b[0;31m---------------------------------------------------------------------------\u001b[0m",
            "\u001b[0;31mTypeError\u001b[0m                                 Traceback (most recent call last)",
            "\u001b[0;32m<ipython-input-99-5fa73ee248e8>\u001b[0m in \u001b[0;36m<cell line: 5>\u001b[0;34m()\u001b[0m\n\u001b[1;32m      4\u001b[0m \u001b[0;34m\u001b[0m\u001b[0m\n\u001b[1;32m      5\u001b[0m \u001b[0;32mfor\u001b[0m \u001b[0mi\u001b[0m \u001b[0;32min\u001b[0m \u001b[0mlist\u001b[0m\u001b[0;34m(\u001b[0m\u001b[0mrange\u001b[0m\u001b[0;34m(\u001b[0m\u001b[0;36m1\u001b[0m\u001b[0;34m,\u001b[0m\u001b[0mentrada\u001b[0m \u001b[0;34m+\u001b[0m \u001b[0;36m1\u001b[0m\u001b[0;34m,\u001b[0m \u001b[0;36m2\u001b[0m\u001b[0;34m)\u001b[0m\u001b[0;34m)\u001b[0m\u001b[0;34m:\u001b[0m\u001b[0;34m\u001b[0m\u001b[0;34m\u001b[0m\u001b[0m\n\u001b[0;32m----> 6\u001b[0;31m   \u001b[0mlistita\u001b[0m \u001b[0;34m=\u001b[0m\u001b[0;34m+\u001b[0m \u001b[0mstr\u001b[0m\u001b[0;34m(\u001b[0m\u001b[0mi\u001b[0m\u001b[0;34m)\u001b[0m\u001b[0;34m\u001b[0m\u001b[0;34m\u001b[0m\u001b[0m\n\u001b[0m\u001b[1;32m      7\u001b[0m   \u001b[0mprint\u001b[0m\u001b[0;34m(\u001b[0m\u001b[0mlistita\u001b[0m\u001b[0;34m)\u001b[0m\u001b[0;34m\u001b[0m\u001b[0;34m\u001b[0m\u001b[0m\n",
            "\u001b[0;31mTypeError\u001b[0m: bad operand type for unary +: 'str'"
          ]
        }
      ]
    },
    {
      "cell_type": "markdown",
      "id": "afc536fd",
      "metadata": {
        "id": "afc536fd"
      },
      "source": [
        "### 1.9\n",
        "\n",
        "Escribir un script que dado un número entero positivo muestre la cuenta atrás desde ese número hasta cero separados por comas.\n"
      ]
    },
    {
      "cell_type": "code",
      "source": [],
      "metadata": {
        "id": "geFLAWW4P8BY"
      },
      "id": "geFLAWW4P8BY",
      "execution_count": null,
      "outputs": []
    },
    {
      "cell_type": "markdown",
      "id": "802a4a06",
      "metadata": {
        "id": "802a4a06"
      },
      "source": [
        "### 2.0\n",
        "\n",
        "Escribir un script que dado un número entero positivo muestre la cuenta atrás desde ese número hasta cero separados por comas.\n"
      ]
    },
    {
      "cell_type": "code",
      "source": [],
      "metadata": {
        "id": "lTwn1I_7P8d0"
      },
      "id": "lTwn1I_7P8d0",
      "execution_count": null,
      "outputs": []
    },
    {
      "cell_type": "markdown",
      "id": "5926f0b2",
      "metadata": {
        "id": "5926f0b2"
      },
      "source": [
        "### 2.1\n",
        "\n",
        "Escribir un programa que almacene las asignaturas de un curso (por ejemplo Matemáticas, Física, Química, Historia y Lengua) en una lista, pregunte al usuario la nota que ha sacado en cada asignatura y elimine de la lista las asignaturas aprobadas. Al final el programa debe mostrar por pantalla las asignaturas que el usuario tiene que repetir.\n"
      ]
    },
    {
      "cell_type": "code",
      "source": [],
      "metadata": {
        "id": "-H95E4AlQkbT"
      },
      "id": "-H95E4AlQkbT",
      "execution_count": null,
      "outputs": []
    },
    {
      "cell_type": "markdown",
      "id": "54eded8d",
      "metadata": {
        "id": "54eded8d"
      },
      "source": [
        "### 2.2\n",
        "\n",
        "Escribir un programa que pida al usuario una palabra y muestre por pantalla el número de veces que contiene cada vocal.\n"
      ]
    },
    {
      "cell_type": "code",
      "source": [],
      "metadata": {
        "id": "yRwa6XSVQkto"
      },
      "id": "yRwa6XSVQkto",
      "execution_count": null,
      "outputs": []
    },
    {
      "cell_type": "markdown",
      "id": "5277a66c",
      "metadata": {
        "id": "5277a66c"
      },
      "source": [
        "### 2.3\n",
        "Escribir un programa que guarde en un diccionario los precios de las frutas de la tabla, pregunte al usuario por una fruta, un número de kilos y muestre por pantalla el precio de ese número de kilos de fruta. Si la fruta no está en el diccionario debe mostrar un mensaje informando de ello.\n",
        "\n",
        "| Fruta   | Precio por Kg |\n",
        "|---------|---------------|\n",
        "| Banana  | 150           |\n",
        "| Manzana | 200           |\n",
        "| Pera    | 180           |\n",
        "| Naranja | 100           |"
      ]
    },
    {
      "cell_type": "code",
      "source": [],
      "metadata": {
        "id": "dvWu9s7dQlsp"
      },
      "id": "dvWu9s7dQlsp",
      "execution_count": null,
      "outputs": []
    },
    {
      "cell_type": "markdown",
      "id": "6769d482",
      "metadata": {
        "id": "6769d482"
      },
      "source": [
        "2.4\n",
        "\n",
        "Escribir un programa que pregunte una fecha en formato dd/mm/aaaa y muestre por pantalla la misma fecha en formato dd de <mes> de aaaa donde <mes> es el nombre del mes."
      ]
    },
    {
      "cell_type": "code",
      "execution_count": null,
      "id": "d833a50e",
      "metadata": {
        "id": "d833a50e"
      },
      "outputs": [],
      "source": []
    },
    {
      "cell_type": "markdown",
      "id": "3d4b9189",
      "metadata": {
        "id": "3d4b9189"
      },
      "source": [
        "2.5\n",
        "\n",
        "Escribir una función que reciba una muestra de números en una lista y devuelva su promedio.\n"
      ]
    },
    {
      "cell_type": "code",
      "source": [],
      "metadata": {
        "id": "K96tduXLQmTV"
      },
      "id": "K96tduXLQmTV",
      "execution_count": null,
      "outputs": []
    },
    {
      "cell_type": "markdown",
      "id": "2e484008",
      "metadata": {
        "id": "2e484008"
      },
      "source": [
        "### 2.6\n",
        "\n",
        "Escribir una funcion que tome un string como parametro y devuelva el string pero en orden inversor\n"
      ]
    },
    {
      "cell_type": "code",
      "source": [],
      "metadata": {
        "id": "DaCXjMEdQmqW"
      },
      "id": "DaCXjMEdQmqW",
      "execution_count": null,
      "outputs": []
    },
    {
      "cell_type": "markdown",
      "id": "ae6c901f",
      "metadata": {
        "id": "ae6c901f"
      },
      "source": [
        "### 2.7\n",
        "Escribir una funcion que tome un string como parametro y devuelva la palabra mas larga en dicho string\n"
      ]
    },
    {
      "cell_type": "code",
      "execution_count": null,
      "id": "45c77612",
      "metadata": {
        "id": "45c77612"
      },
      "outputs": [],
      "source": [
        "oracion = \"Cuando era niño leí el libro del Corsario Negro, me encantó\""
      ]
    },
    {
      "cell_type": "code",
      "source": [],
      "metadata": {
        "id": "GHFd4DKiQnOt"
      },
      "id": "GHFd4DKiQnOt",
      "execution_count": null,
      "outputs": []
    },
    {
      "cell_type": "markdown",
      "id": "275d9cb9",
      "metadata": {
        "id": "275d9cb9"
      },
      "source": [
        "### 2.8\n",
        "Escribir una funcion que tome dos strings como parametros y sin importar mayusculas ni minusculas devuelva:\n",
        "- True: si son iguales\n",
        "- False: si son diferentes"
      ]
    },
    {
      "cell_type": "code",
      "source": [],
      "metadata": {
        "id": "wCuvSHMrQoNo"
      },
      "id": "wCuvSHMrQoNo",
      "execution_count": null,
      "outputs": []
    },
    {
      "cell_type": "markdown",
      "id": "6e2dc662",
      "metadata": {
        "id": "6e2dc662"
      },
      "source": [
        "### 2.9\n",
        "Escribir una funcion que dado una lista de numeros devuelva la multiplicacion de todos ellos\n"
      ]
    },
    {
      "cell_type": "code",
      "source": [],
      "metadata": {
        "id": "HClZGFXuQotn"
      },
      "id": "HClZGFXuQotn",
      "execution_count": null,
      "outputs": []
    },
    {
      "cell_type": "markdown",
      "id": "6585e0d5",
      "metadata": {
        "id": "6585e0d5"
      },
      "source": [
        "### 3.0\n",
        "Escribir un programa que reciba una cadena de caracteres y devuelva un diccionario con cada palabra que contiene y su frecuencia.\n"
      ]
    },
    {
      "cell_type": "code",
      "execution_count": null,
      "id": "2661b6a0",
      "metadata": {
        "id": "2661b6a0"
      },
      "outputs": [],
      "source": [
        "frase = \"Cuando era niño leí el libro del Corsario Negro y me encantó. Al principio no sabia mucho de piratas pero despues de leer el libro empece a entender como era la vida de los piratas\""
      ]
    },
    {
      "cell_type": "code",
      "source": [],
      "metadata": {
        "id": "QdDznRGUQpO-"
      },
      "id": "QdDznRGUQpO-",
      "execution_count": null,
      "outputs": []
    },
    {
      "cell_type": "markdown",
      "id": "a8a520af",
      "metadata": {
        "id": "a8a520af"
      },
      "source": [
        "## Depuración de errores\n",
        "\n",
        "En cada ejercicio corré el codigo, analizá el error en consola y corregilo"
      ]
    },
    {
      "cell_type": "markdown",
      "id": "ba287984",
      "metadata": {
        "id": "ba287984"
      },
      "source": [
        "### 3.1"
      ]
    },
    {
      "cell_type": "code",
      "execution_count": null,
      "id": "6633235f",
      "metadata": {
        "id": "6633235f",
        "outputId": "9b3e25ba-a3a3-4105-f9e0-33e7657017cd"
      },
      "outputs": [
        {
          "ename": "SyntaxError",
          "evalue": "EOL while scanning string literal (Temp/ipykernel_21556/3679785348.py, line 1)",
          "output_type": "error",
          "traceback": [
            "\u001b[1;36m  File \u001b[1;32m\"C:\\Users\\farivero\\AppData\\Local\\Temp/ipykernel_21556/3679785348.py\"\u001b[1;36m, line \u001b[1;32m1\u001b[0m\n\u001b[1;33m    contraseña = input('Introduce la contraseña: \")\u001b[0m\n\u001b[1;37m                                                   ^\u001b[0m\n\u001b[1;31mSyntaxError\u001b[0m\u001b[1;31m:\u001b[0m EOL while scanning string literal\n"
          ]
        }
      ],
      "source": [
        "contraseña = input('Introduce la contraseña: \")\n",
        "if contraseña in ['sesamo'):\n",
        "  print('Pasa')\n",
        "else\n",
        "  print('No pasa')"
      ]
    },
    {
      "cell_type": "code",
      "source": [],
      "metadata": {
        "id": "thfv2XsVRdF9"
      },
      "id": "thfv2XsVRdF9",
      "execution_count": null,
      "outputs": []
    },
    {
      "cell_type": "markdown",
      "id": "3311f451",
      "metadata": {
        "id": "3311f451"
      },
      "source": [
        "### 3.2"
      ]
    },
    {
      "cell_type": "code",
      "execution_count": null,
      "id": "67458b41",
      "metadata": {
        "id": "67458b41",
        "outputId": "077d7331-85f1-4d8e-da26-7486fab4ddaf"
      },
      "outputs": [
        {
          "name": "stdout",
          "output_type": "stream",
          "text": [
            "Introduce la base imponible de la factura: 200\n"
          ]
        },
        {
          "ename": "NameError",
          "evalue": "name 'aplica_iva' is not defined",
          "output_type": "error",
          "traceback": [
            "\u001b[1;31m---------------------------------------------------------------------------\u001b[0m",
            "\u001b[1;31mNameError\u001b[0m                                 Traceback (most recent call last)",
            "\u001b[1;32m~\\AppData\\Local\\Temp/ipykernel_21556/3601789451.py\u001b[0m in \u001b[0;36m<module>\u001b[1;34m\u001b[0m\n\u001b[0;32m      1\u001b[0m \u001b[0mbase\u001b[0m \u001b[1;33m=\u001b[0m \u001b[0minput\u001b[0m\u001b[1;33m(\u001b[0m\u001b[1;34m'Introduce la base imponible de la factura: '\u001b[0m\u001b[1;33m)\u001b[0m\u001b[1;33m\u001b[0m\u001b[1;33m\u001b[0m\u001b[0m\n\u001b[1;32m----> 2\u001b[1;33m \u001b[0mprint\u001b[0m\u001b[1;33m(\u001b[0m\u001b[0maplica_iva\u001b[0m\u001b[1;33m(\u001b[0m\u001b[0mbase\u001b[0m\u001b[1;33m,\u001b[0m \u001b[0miva\u001b[0m\u001b[1;33m)\u001b[0m\u001b[1;33m)\u001b[0m\u001b[1;33m\u001b[0m\u001b[1;33m\u001b[0m\u001b[0m\n\u001b[0m\u001b[0;32m      3\u001b[0m \u001b[1;33m\u001b[0m\u001b[0m\n\u001b[0;32m      4\u001b[0m \u001b[1;32mdef\u001b[0m \u001b[0maplica_iva\u001b[0m\u001b[1;33m(\u001b[0m\u001b[0mbase\u001b[0m\u001b[1;33m,\u001b[0m \u001b[0miva\u001b[0m \u001b[1;33m=\u001b[0m \u001b[1;36m21\u001b[0m\u001b[1;33m)\u001b[0m\u001b[1;33m:\u001b[0m\u001b[1;33m\u001b[0m\u001b[1;33m\u001b[0m\u001b[0m\n\u001b[0;32m      5\u001b[0m     \u001b[0mbase\u001b[0m \u001b[1;33m=\u001b[0m \u001b[0mbase\u001b[0m \u001b[1;33m*\u001b[0m \u001b[0miva\u001b[0m\u001b[1;33m\u001b[0m\u001b[1;33m\u001b[0m\u001b[0m\n",
            "\u001b[1;31mNameError\u001b[0m: name 'aplica_iva' is not defined"
          ]
        }
      ],
      "source": [
        "base = input('Introduce la base imponible de la factura: ')\n",
        "print(aplica_iva(base, iva))\n",
        "\n",
        "def aplica_iva(base, iva = 21):\n",
        "    base = base * iva\n",
        "    return base"
      ]
    },
    {
      "cell_type": "code",
      "source": [],
      "metadata": {
        "id": "_OS2iZwwReYB"
      },
      "id": "_OS2iZwwReYB",
      "execution_count": null,
      "outputs": []
    },
    {
      "cell_type": "markdown",
      "id": "7ba7523c",
      "metadata": {
        "id": "7ba7523c"
      },
      "source": [
        "### 3.3"
      ]
    },
    {
      "cell_type": "code",
      "execution_count": null,
      "id": "7802da60",
      "metadata": {
        "id": "7802da60",
        "outputId": "4574a105-7843-49b8-ff36-50cbd3438f78"
      },
      "outputs": [
        {
          "ename": "KeyError",
          "evalue": "'Pablo'",
          "output_type": "error",
          "traceback": [
            "\u001b[1;31m---------------------------------------------------------------------------\u001b[0m",
            "\u001b[1;31mKeyError\u001b[0m                                  Traceback (most recent call last)",
            "\u001b[1;32m~\\AppData\\Local\\Temp/ipykernel_21556/2209458513.py\u001b[0m in \u001b[0;36m<module>\u001b[1;34m\u001b[0m\n\u001b[0;32m      5\u001b[0m     \u001b[1;32mreturn\u001b[0m \u001b[0mlistin\u001b[0m\u001b[1;33m[\u001b[0m\u001b[0musuario\u001b[0m\u001b[1;33m]\u001b[0m\u001b[1;33m\u001b[0m\u001b[1;33m\u001b[0m\u001b[0m\n\u001b[0;32m      6\u001b[0m \u001b[1;33m\u001b[0m\u001b[0m\n\u001b[1;32m----> 7\u001b[1;33m \u001b[0mprint\u001b[0m\u001b[1;33m(\u001b[0m\u001b[0melimina\u001b[0m\u001b[1;33m(\u001b[0m\u001b[0mlistin\u001b[0m\u001b[1;33m,\u001b[0m \u001b[1;34m'Pablo'\u001b[0m\u001b[1;33m)\u001b[0m\u001b[1;33m)\u001b[0m\u001b[1;33m\u001b[0m\u001b[1;33m\u001b[0m\u001b[0m\n\u001b[0m",
            "\u001b[1;32m~\\AppData\\Local\\Temp/ipykernel_21556/2209458513.py\u001b[0m in \u001b[0;36melimina\u001b[1;34m(listin, usuario)\u001b[0m\n\u001b[0;32m      2\u001b[0m \u001b[1;33m\u001b[0m\u001b[0m\n\u001b[0;32m      3\u001b[0m \u001b[1;32mdef\u001b[0m \u001b[0melimina\u001b[0m\u001b[1;33m(\u001b[0m\u001b[0mlistin\u001b[0m\u001b[1;33m,\u001b[0m \u001b[0musuario\u001b[0m\u001b[1;33m)\u001b[0m\u001b[1;33m:\u001b[0m\u001b[1;33m\u001b[0m\u001b[1;33m\u001b[0m\u001b[0m\n\u001b[1;32m----> 4\u001b[1;33m     \u001b[1;32mdel\u001b[0m \u001b[0mlistin\u001b[0m\u001b[1;33m[\u001b[0m\u001b[0musuario\u001b[0m\u001b[1;33m]\u001b[0m\u001b[1;33m\u001b[0m\u001b[1;33m\u001b[0m\u001b[0m\n\u001b[0m\u001b[0;32m      5\u001b[0m     \u001b[1;32mreturn\u001b[0m \u001b[0mlistin\u001b[0m\u001b[1;33m[\u001b[0m\u001b[0musuario\u001b[0m\u001b[1;33m]\u001b[0m\u001b[1;33m\u001b[0m\u001b[1;33m\u001b[0m\u001b[0m\n\u001b[0;32m      6\u001b[0m \u001b[1;33m\u001b[0m\u001b[0m\n",
            "\u001b[1;31mKeyError\u001b[0m: 'Pablo'"
          ]
        }
      ],
      "source": [
        "listin = {'Juan':123456789, 'Pedro':987654321}\n",
        "\n",
        "def elimina(listin, usuario):\n",
        "    del listin[usuario]\n",
        "    return listin[usuario]\n",
        "\n",
        "print(elimina(listin, 'Pablo'))"
      ]
    },
    {
      "cell_type": "code",
      "source": [],
      "metadata": {
        "id": "qesn11oWRgtg"
      },
      "id": "qesn11oWRgtg",
      "execution_count": null,
      "outputs": []
    },
    {
      "cell_type": "code",
      "execution_count": null,
      "id": "1efefc7b-1243-4eed-99ce-5ff147e27ba1",
      "metadata": {
        "id": "1efefc7b-1243-4eed-99ce-5ff147e27ba1"
      },
      "outputs": [],
      "source": []
    }
  ],
  "metadata": {
    "kernelspec": {
      "display_name": "Python 3 (ipykernel)",
      "language": "python",
      "name": "python3"
    },
    "language_info": {
      "codemirror_mode": {
        "name": "ipython",
        "version": 3
      },
      "file_extension": ".py",
      "mimetype": "text/x-python",
      "name": "python",
      "nbconvert_exporter": "python",
      "pygments_lexer": "ipython3",
      "version": "3.9.7"
    },
    "colab": {
      "provenance": []
    }
  },
  "nbformat": 4,
  "nbformat_minor": 5
}