{
  "cells": [
    {
      "cell_type": "markdown",
      "id": "aa636acf",
      "metadata": {
        "id": "aa636acf"
      },
      "source": [
        "# EJERCICIO TITANIC\n",
        "\n",
        "![](https://upload.wikimedia.org/wikipedia/commons/thumb/f/fd/RMS_Titanic_3.jpg/800px-RMS_Titanic_3.jpg)\n",
        "\n",
        "Para el ejercicio final, intentá combinar todas las habilidades que aprendiste hasta ahora para cumplir las consignas. **Sentite libre de desviarte de las consignas y explorar los datos que te parezcan interesantes.**\n",
        "\n",
        "**Link dataset**: 'https://raw.githubusercontent.com/ConroSatchmo/datasets/main/titanic.csv'\n",
        "\n",
        "Este archivo contiene información sobre todos los pasajeros y tripulantes del RMS Titanic. Sus columnas son:\n",
        "\n",
        "- ``name``: strings with the name of the passenger.\n",
        "- ``gender``: \"male\" or \"female\".\n",
        "- ``age``: a float with the persons age on the day of the sinking. The age of babies (under 12 months) is given as a fraction of one year.\n",
        "- ``class``: a string specifying the class (1st, 2nd or 3rd) for passengers or the type of service aboard for crew members.\n",
        "- ``embarked``: the persons place of of embarkment.\n",
        "- ``country``: the persons home country.\n",
        "- ``ticketno``: the persons ticket number (NA for crew members).\n",
        "- ``fare``: the ticket price (NA for crew members, musicians and employees of the shipyard company).\n",
        "- ``sibsp``: a number specifying the number if siblings/spouses aboard.\n",
        "- ``parch``: a number specifying the number of parents/children aboard.\n",
        "- ``survived``: a string (\"no\" or \"yes\") specifying whether the person has survived the sinking."
      ]
    },
    {
      "cell_type": "code",
      "execution_count": null,
      "id": "4c293bf3",
      "metadata": {
        "id": "4c293bf3"
      },
      "outputs": [],
      "source": []
    },
    {
      "cell_type": "code",
      "execution_count": null,
      "id": "01835466",
      "metadata": {
        "id": "01835466"
      },
      "outputs": [],
      "source": []
    },
    {
      "cell_type": "markdown",
      "id": "86af50ae",
      "metadata": {
        "id": "86af50ae"
      },
      "source": [
        "Leer el dataset y mostrar:\n",
        "\n",
        "- Los primeros 5 registros\n",
        "- Los ultimos 5 registros"
      ]
    },
    {
      "cell_type": "code",
      "source": [],
      "metadata": {
        "id": "eRaC_V2HBh1k"
      },
      "id": "eRaC_V2HBh1k",
      "execution_count": null,
      "outputs": []
    },
    {
      "cell_type": "markdown",
      "id": "98568d77",
      "metadata": {
        "id": "98568d77"
      },
      "source": [
        "¿Cuantas filas y columnas tiene el dataset?\n"
      ]
    },
    {
      "cell_type": "code",
      "source": [],
      "metadata": {
        "id": "Ju6me5L7BiaA"
      },
      "id": "Ju6me5L7BiaA",
      "execution_count": null,
      "outputs": []
    },
    {
      "cell_type": "markdown",
      "id": "dde3c246",
      "metadata": {
        "id": "dde3c246"
      },
      "source": [
        "Cambiar el nombre de la columna ``age`` por ``edad``"
      ]
    },
    {
      "cell_type": "code",
      "source": [],
      "metadata": {
        "id": "diyXpAyMBi0j"
      },
      "id": "diyXpAyMBi0j",
      "execution_count": null,
      "outputs": []
    },
    {
      "cell_type": "markdown",
      "id": "68112f85",
      "metadata": {
        "id": "68112f85"
      },
      "source": [
        "Aplicar un ``describe`` y sacar por lo menos 3 conclusiones"
      ]
    },
    {
      "cell_type": "code",
      "source": [],
      "metadata": {
        "id": "mQw3zW-vBjPs"
      },
      "id": "mQw3zW-vBjPs",
      "execution_count": null,
      "outputs": []
    },
    {
      "cell_type": "markdown",
      "id": "41e1dadd",
      "metadata": {
        "id": "41e1dadd"
      },
      "source": [
        "¿Cuales son las personas que tienen los tickets con mayores precio?"
      ]
    },
    {
      "cell_type": "code",
      "source": [],
      "metadata": {
        "id": "v9USR899Bjni"
      },
      "id": "v9USR899Bjni",
      "execution_count": null,
      "outputs": []
    },
    {
      "cell_type": "markdown",
      "id": "5cb11e97",
      "metadata": {
        "id": "5cb11e97"
      },
      "source": [
        "Contar la cantidad de personas por genero"
      ]
    },
    {
      "cell_type": "code",
      "source": [],
      "metadata": {
        "id": "oj684S_qBkFE"
      },
      "id": "oj684S_qBkFE",
      "execution_count": null,
      "outputs": []
    },
    {
      "cell_type": "markdown",
      "id": "e59a43d8",
      "metadata": {
        "id": "e59a43d8"
      },
      "source": [
        "¿De cuantos paises diferentes provenian las personas?"
      ]
    },
    {
      "cell_type": "code",
      "source": [],
      "metadata": {
        "id": "qhr8clw9BkbF"
      },
      "id": "qhr8clw9BkbF",
      "execution_count": null,
      "outputs": []
    },
    {
      "cell_type": "markdown",
      "id": "f082a691",
      "metadata": {
        "id": "f082a691"
      },
      "source": [
        "Encontrar la edad promedio de todas las personas a bordo"
      ]
    },
    {
      "cell_type": "code",
      "source": [],
      "metadata": {
        "id": "RIP0gMpJBkzj"
      },
      "id": "RIP0gMpJBkzj",
      "execution_count": null,
      "outputs": []
    },
    {
      "cell_type": "markdown",
      "id": "babeec43",
      "metadata": {
        "id": "babeec43"
      },
      "source": [
        "Filtrar solo los hombres, de primera clase, que sean de Estados unidos o Inglaterra. Finalmente ordenarlos por el precio del ticket"
      ]
    },
    {
      "cell_type": "code",
      "source": [],
      "metadata": {
        "id": "bSwnKuT3BlV1"
      },
      "id": "bSwnKuT3BlV1",
      "execution_count": null,
      "outputs": []
    },
    {
      "cell_type": "markdown",
      "id": "b5ff8205",
      "metadata": {
        "id": "b5ff8205"
      },
      "source": [
        "Contar cuantas personas murieron o sobrevivieron que no sean ni de Estados unidos ni de Inglaterra"
      ]
    },
    {
      "cell_type": "code",
      "source": [],
      "metadata": {
        "id": "nFn9VxwTBlrC"
      },
      "id": "nFn9VxwTBlrC",
      "execution_count": null,
      "outputs": []
    },
    {
      "cell_type": "markdown",
      "id": "5a0be72d",
      "metadata": {
        "id": "5a0be72d"
      },
      "source": [
        "Encontrar la edad promedio de los hombres a bordo\n"
      ]
    },
    {
      "cell_type": "code",
      "source": [],
      "metadata": {
        "id": "yPZ4KqsWBmGX"
      },
      "id": "yPZ4KqsWBmGX",
      "execution_count": null,
      "outputs": []
    },
    {
      "cell_type": "markdown",
      "id": "a074494e",
      "metadata": {
        "id": "a074494e"
      },
      "source": [
        "Seleccionar solo las personas que pertenezca a la clase '3rd', luego contar cuantos sobrevivieron y cuantos murieron."
      ]
    },
    {
      "cell_type": "code",
      "source": [],
      "metadata": {
        "id": "ek_VMmO6Bmi6"
      },
      "id": "ek_VMmO6Bmi6",
      "execution_count": null,
      "outputs": []
    },
    {
      "cell_type": "markdown",
      "id": "b9db0227",
      "metadata": {
        "id": "b9db0227"
      },
      "source": [
        "Tarifa promedio correspondiente a cada tipo de clase"
      ]
    },
    {
      "cell_type": "code",
      "source": [],
      "metadata": {
        "id": "-XqVyUeABm4C"
      },
      "id": "-XqVyUeABm4C",
      "execution_count": null,
      "outputs": []
    },
    {
      "cell_type": "markdown",
      "id": "6cdd0743",
      "metadata": {
        "id": "6cdd0743"
      },
      "source": [
        "Encuentre la tasa de supervivencia promedio correspondiente a cada tipo de cabina"
      ]
    },
    {
      "cell_type": "code",
      "source": [],
      "metadata": {
        "id": "ubEO1-9IBnUq"
      },
      "id": "ubEO1-9IBnUq",
      "execution_count": null,
      "outputs": []
    },
    {
      "cell_type": "markdown",
      "id": "68761199",
      "metadata": {
        "id": "68761199"
      },
      "source": [
        "Hacer graficos y sacar conclusiones, algunos ejemplos:\n",
        "\n",
        "- Relacion entre la clase en la que se viaja y la edad de la persona\n",
        "- Supervivencia por edad"
      ]
    }
  ],
  "metadata": {
    "kernelspec": {
      "display_name": "Python 3 (ipykernel)",
      "language": "python",
      "name": "python3"
    },
    "language_info": {
      "codemirror_mode": {
        "name": "ipython",
        "version": 3
      },
      "file_extension": ".py",
      "mimetype": "text/x-python",
      "name": "python",
      "nbconvert_exporter": "python",
      "pygments_lexer": "ipython3",
      "version": "3.9.12"
    },
    "colab": {
      "provenance": []
    }
  },
  "nbformat": 4,
  "nbformat_minor": 5
}